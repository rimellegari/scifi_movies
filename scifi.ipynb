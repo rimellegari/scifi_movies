{
 "cells": [
  {
   "cell_type": "markdown",
   "metadata": {},
   "source": [
    "<h1 style=\"font-family: Arial; font-size:1.75em;color:#2462C0; font-style:bold\">\n",
    "Estudo de caso: Evolução de efeitos especiais</h1>\n",
    "<p>O número de filmes de ficcção científica aumentou ao longo dos anos?</p>\n",
    "<p>A nota média dos filmes de ficção científica aumentou com o a melhoria de efeitos especiais computacionais no decorrer dos anos?</p>\n",
    "<p>Quais são os 10 filmes com maior nota?</p>\n",
    "\n",
    "<i><h1 style=\"font-family: Arial; font-size:1.75em;color:#2462C0; font-style:bold\">\n",
    "Case Study: Special effects evolution and Scifi movies rating</h1></i>\n",
    "<i><p>Has the number of sci-fi movies increased along the years?</p></i>\n",
    "<i><p>Has the average ratings of sci-fi movies got higher with the development and improvement of CGI across the years?</p></i>\n",
    "<i><p>What are the top 10 highest-rated movies?</p></i>\n",
    "\n",
    "\n"
   ]
  },
  {
   "cell_type": "markdown",
   "metadata": {},
   "source": [
    "# 1. Importando bibliotecas\n",
    "# *1. Importing libraries*"
   ]
  },
  {
   "cell_type": "code",
   "execution_count": 4,
   "metadata": {},
   "outputs": [],
   "source": [
    "import pandas as pd\n",
    "import numpy as np\n",
    "import matplotlib.pyplot as plt\n",
    "import seaborn as sns\n",
    "import re\n",
    "plt.style.use('ggplot')"
   ]
  },
  {
   "cell_type": "markdown",
   "metadata": {},
   "source": [
    "# 2. Importando dataframes\n",
    "\n",
    "## *2. Importing dataframes*"
   ]
  },
  {
   "cell_type": "markdown",
   "metadata": {},
   "source": [
    "## 2.1 Check e remoção de valores nulos\n",
    "\n",
    "### *2.1  Null values check and removal*"
   ]
  },
  {
   "cell_type": "code",
   "execution_count": 5,
   "metadata": {},
   "outputs": [
    {
     "data": {
      "text/html": [
       "<div>\n",
       "<style scoped>\n",
       "    .dataframe tbody tr th:only-of-type {\n",
       "        vertical-align: middle;\n",
       "    }\n",
       "\n",
       "    .dataframe tbody tr th {\n",
       "        vertical-align: top;\n",
       "    }\n",
       "\n",
       "    .dataframe thead th {\n",
       "        text-align: right;\n",
       "    }\n",
       "</style>\n",
       "<table border=\"1\" class=\"dataframe\">\n",
       "  <thead>\n",
       "    <tr style=\"text-align: right;\">\n",
       "      <th></th>\n",
       "      <th>movieId</th>\n",
       "      <th>title</th>\n",
       "      <th>genres</th>\n",
       "    </tr>\n",
       "  </thead>\n",
       "  <tbody>\n",
       "    <tr>\n",
       "      <th>0</th>\n",
       "      <td>1</td>\n",
       "      <td>Toy Story (1995)</td>\n",
       "      <td>Adventure|Animation|Children|Comedy|Fantasy</td>\n",
       "    </tr>\n",
       "    <tr>\n",
       "      <th>1</th>\n",
       "      <td>2</td>\n",
       "      <td>Jumanji (1995)</td>\n",
       "      <td>Adventure|Children|Fantasy</td>\n",
       "    </tr>\n",
       "    <tr>\n",
       "      <th>2</th>\n",
       "      <td>3</td>\n",
       "      <td>Grumpier Old Men (1995)</td>\n",
       "      <td>Comedy|Romance</td>\n",
       "    </tr>\n",
       "    <tr>\n",
       "      <th>3</th>\n",
       "      <td>4</td>\n",
       "      <td>Waiting to Exhale (1995)</td>\n",
       "      <td>Comedy|Drama|Romance</td>\n",
       "    </tr>\n",
       "    <tr>\n",
       "      <th>4</th>\n",
       "      <td>5</td>\n",
       "      <td>Father of the Bride Part II (1995)</td>\n",
       "      <td>Comedy</td>\n",
       "    </tr>\n",
       "  </tbody>\n",
       "</table>\n",
       "</div>"
      ],
      "text/plain": [
       "   movieId                               title  \\\n",
       "0        1                    Toy Story (1995)   \n",
       "1        2                      Jumanji (1995)   \n",
       "2        3             Grumpier Old Men (1995)   \n",
       "3        4            Waiting to Exhale (1995)   \n",
       "4        5  Father of the Bride Part II (1995)   \n",
       "\n",
       "                                        genres  \n",
       "0  Adventure|Animation|Children|Comedy|Fantasy  \n",
       "1                   Adventure|Children|Fantasy  \n",
       "2                               Comedy|Romance  \n",
       "3                         Comedy|Drama|Romance  \n",
       "4                                       Comedy  "
      ]
     },
     "execution_count": 5,
     "metadata": {},
     "output_type": "execute_result"
    }
   ],
   "source": [
    "movies = pd.read_csv('./movielens/movies.csv')\n",
    "movies.head()\n"
   ]
  },
  {
   "cell_type": "code",
   "execution_count": 6,
   "metadata": {},
   "outputs": [
    {
     "name": "stdout",
     "output_type": "stream",
     "text": [
      "(62423, 3)\n"
     ]
    }
   ],
   "source": [
    "movies.describe()\n",
    "print(movies.shape)\n"
   ]
  },
  {
   "cell_type": "code",
   "execution_count": 7,
   "metadata": {},
   "outputs": [
    {
     "name": "stdout",
     "output_type": "stream",
     "text": [
      "(1093360, 4)\n"
     ]
    },
    {
     "data": {
      "text/html": [
       "<div>\n",
       "<style scoped>\n",
       "    .dataframe tbody tr th:only-of-type {\n",
       "        vertical-align: middle;\n",
       "    }\n",
       "\n",
       "    .dataframe tbody tr th {\n",
       "        vertical-align: top;\n",
       "    }\n",
       "\n",
       "    .dataframe thead th {\n",
       "        text-align: right;\n",
       "    }\n",
       "</style>\n",
       "<table border=\"1\" class=\"dataframe\">\n",
       "  <thead>\n",
       "    <tr style=\"text-align: right;\">\n",
       "      <th></th>\n",
       "      <th>userId</th>\n",
       "      <th>movieId</th>\n",
       "      <th>tag</th>\n",
       "      <th>timestamp</th>\n",
       "    </tr>\n",
       "  </thead>\n",
       "  <tbody>\n",
       "    <tr>\n",
       "      <th>0</th>\n",
       "      <td>3</td>\n",
       "      <td>260</td>\n",
       "      <td>classic</td>\n",
       "      <td>1439472355</td>\n",
       "    </tr>\n",
       "    <tr>\n",
       "      <th>1</th>\n",
       "      <td>3</td>\n",
       "      <td>260</td>\n",
       "      <td>sci-fi</td>\n",
       "      <td>1439472256</td>\n",
       "    </tr>\n",
       "    <tr>\n",
       "      <th>2</th>\n",
       "      <td>4</td>\n",
       "      <td>1732</td>\n",
       "      <td>dark comedy</td>\n",
       "      <td>1573943598</td>\n",
       "    </tr>\n",
       "    <tr>\n",
       "      <th>3</th>\n",
       "      <td>4</td>\n",
       "      <td>1732</td>\n",
       "      <td>great dialogue</td>\n",
       "      <td>1573943604</td>\n",
       "    </tr>\n",
       "    <tr>\n",
       "      <th>4</th>\n",
       "      <td>4</td>\n",
       "      <td>7569</td>\n",
       "      <td>so bad it's good</td>\n",
       "      <td>1573943455</td>\n",
       "    </tr>\n",
       "  </tbody>\n",
       "</table>\n",
       "</div>"
      ],
      "text/plain": [
       "   userId  movieId               tag   timestamp\n",
       "0       3      260           classic  1439472355\n",
       "1       3      260            sci-fi  1439472256\n",
       "2       4     1732       dark comedy  1573943598\n",
       "3       4     1732    great dialogue  1573943604\n",
       "4       4     7569  so bad it's good  1573943455"
      ]
     },
     "execution_count": 7,
     "metadata": {},
     "output_type": "execute_result"
    }
   ],
   "source": [
    "movie_tags = pd.read_csv('./movielens/tags.csv')\n",
    "print(movie_tags.shape)\n",
    "movie_tags.head()"
   ]
  },
  {
   "cell_type": "code",
   "execution_count": 8,
   "metadata": {},
   "outputs": [
    {
     "name": "stdout",
     "output_type": "stream",
     "text": [
      "userId       False\n",
      "movieId      False\n",
      "tag           True\n",
      "timestamp    False\n",
      "dtype: bool\n"
     ]
    }
   ],
   "source": [
    "movie_tags.describe()\n",
    "print(movie_tags.isnull().any())    \n"
   ]
  },
  {
   "cell_type": "code",
   "execution_count": 9,
   "metadata": {},
   "outputs": [
    {
     "name": "stdout",
     "output_type": "stream",
     "text": [
      "userId       False\n",
      "movieId      False\n",
      "tag          False\n",
      "timestamp    False\n",
      "dtype: bool\n"
     ]
    }
   ],
   "source": [
    "movie_tags = movie_tags.dropna()\n",
    "print(movie_tags.isnull().any())    "
   ]
  },
  {
   "cell_type": "code",
   "execution_count": 10,
   "metadata": {},
   "outputs": [
    {
     "name": "stdout",
     "output_type": "stream",
     "text": [
      "(25000095, 4)\n"
     ]
    },
    {
     "data": {
      "text/html": [
       "<div>\n",
       "<style scoped>\n",
       "    .dataframe tbody tr th:only-of-type {\n",
       "        vertical-align: middle;\n",
       "    }\n",
       "\n",
       "    .dataframe tbody tr th {\n",
       "        vertical-align: top;\n",
       "    }\n",
       "\n",
       "    .dataframe thead th {\n",
       "        text-align: right;\n",
       "    }\n",
       "</style>\n",
       "<table border=\"1\" class=\"dataframe\">\n",
       "  <thead>\n",
       "    <tr style=\"text-align: right;\">\n",
       "      <th></th>\n",
       "      <th>userId</th>\n",
       "      <th>movieId</th>\n",
       "      <th>rating</th>\n",
       "      <th>timestamp</th>\n",
       "    </tr>\n",
       "  </thead>\n",
       "  <tbody>\n",
       "    <tr>\n",
       "      <th>0</th>\n",
       "      <td>1</td>\n",
       "      <td>296</td>\n",
       "      <td>5.0</td>\n",
       "      <td>1147880044</td>\n",
       "    </tr>\n",
       "    <tr>\n",
       "      <th>1</th>\n",
       "      <td>1</td>\n",
       "      <td>306</td>\n",
       "      <td>3.5</td>\n",
       "      <td>1147868817</td>\n",
       "    </tr>\n",
       "    <tr>\n",
       "      <th>2</th>\n",
       "      <td>1</td>\n",
       "      <td>307</td>\n",
       "      <td>5.0</td>\n",
       "      <td>1147868828</td>\n",
       "    </tr>\n",
       "    <tr>\n",
       "      <th>3</th>\n",
       "      <td>1</td>\n",
       "      <td>665</td>\n",
       "      <td>5.0</td>\n",
       "      <td>1147878820</td>\n",
       "    </tr>\n",
       "    <tr>\n",
       "      <th>4</th>\n",
       "      <td>1</td>\n",
       "      <td>899</td>\n",
       "      <td>3.5</td>\n",
       "      <td>1147868510</td>\n",
       "    </tr>\n",
       "  </tbody>\n",
       "</table>\n",
       "</div>"
      ],
      "text/plain": [
       "   userId  movieId  rating   timestamp\n",
       "0       1      296     5.0  1147880044\n",
       "1       1      306     3.5  1147868817\n",
       "2       1      307     5.0  1147868828\n",
       "3       1      665     5.0  1147878820\n",
       "4       1      899     3.5  1147868510"
      ]
     },
     "execution_count": 10,
     "metadata": {},
     "output_type": "execute_result"
    }
   ],
   "source": [
    "ratings = pd.read_csv('./movielens/ratings.csv')\n",
    "print(ratings.shape)\n",
    "ratings.head()"
   ]
  },
  {
   "cell_type": "code",
   "execution_count": 11,
   "metadata": {},
   "outputs": [
    {
     "name": "stdout",
     "output_type": "stream",
     "text": [
      "userId       False\n",
      "movieId      False\n",
      "rating       False\n",
      "timestamp    False\n",
      "dtype: bool\n"
     ]
    }
   ],
   "source": [
    "ratings.describe()\n",
    "print(ratings.isnull().any())    "
   ]
  },
  {
   "cell_type": "code",
   "execution_count": 12,
   "metadata": {},
   "outputs": [
    {
     "data": {
      "text/html": [
       "<div>\n",
       "<style scoped>\n",
       "    .dataframe tbody tr th:only-of-type {\n",
       "        vertical-align: middle;\n",
       "    }\n",
       "\n",
       "    .dataframe tbody tr th {\n",
       "        vertical-align: top;\n",
       "    }\n",
       "\n",
       "    .dataframe thead th {\n",
       "        text-align: right;\n",
       "    }\n",
       "</style>\n",
       "<table border=\"1\" class=\"dataframe\">\n",
       "  <thead>\n",
       "    <tr style=\"text-align: right;\">\n",
       "      <th></th>\n",
       "      <th>movieId</th>\n",
       "      <th>tagId</th>\n",
       "      <th>relevance</th>\n",
       "    </tr>\n",
       "  </thead>\n",
       "  <tbody>\n",
       "    <tr>\n",
       "      <th>0</th>\n",
       "      <td>1</td>\n",
       "      <td>1</td>\n",
       "      <td>0.02875</td>\n",
       "    </tr>\n",
       "    <tr>\n",
       "      <th>1</th>\n",
       "      <td>1</td>\n",
       "      <td>2</td>\n",
       "      <td>0.02375</td>\n",
       "    </tr>\n",
       "    <tr>\n",
       "      <th>2</th>\n",
       "      <td>1</td>\n",
       "      <td>3</td>\n",
       "      <td>0.06250</td>\n",
       "    </tr>\n",
       "    <tr>\n",
       "      <th>3</th>\n",
       "      <td>1</td>\n",
       "      <td>4</td>\n",
       "      <td>0.07575</td>\n",
       "    </tr>\n",
       "    <tr>\n",
       "      <th>4</th>\n",
       "      <td>1</td>\n",
       "      <td>5</td>\n",
       "      <td>0.14075</td>\n",
       "    </tr>\n",
       "  </tbody>\n",
       "</table>\n",
       "</div>"
      ],
      "text/plain": [
       "   movieId  tagId  relevance\n",
       "0        1      1    0.02875\n",
       "1        1      2    0.02375\n",
       "2        1      3    0.06250\n",
       "3        1      4    0.07575\n",
       "4        1      5    0.14075"
      ]
     },
     "execution_count": 12,
     "metadata": {},
     "output_type": "execute_result"
    }
   ],
   "source": [
    "genome_scores = pd.read_csv('./movielens/genome-scores.csv')\n",
    "genome_scores.head()"
   ]
  },
  {
   "cell_type": "markdown",
   "metadata": {},
   "source": [
    "<p>Para o estudo de caso serão analisados os arquivos de filmes, tags e avaliações<p>\n",
    "\n",
    "<i><p>For this case it will be analysed the movies, tags and ratings files<p></i>"
   ]
  },
  {
   "cell_type": "markdown",
   "metadata": {},
   "source": [
    "## 2.2 Tratamento dos conjuntos de dados\n",
    "\n",
    "### 2.2 Treating the datasets\n"
   ]
  },
  {
   "cell_type": "markdown",
   "metadata": {},
   "source": [
    "### 2.2.1 Tratamento dos dados de filmes\n",
    "\n",
    "<p>Considera-se um filme de ficção científica o filme que apresentar pelo menos um de seus gêneros como \"sci-fi\"</p>\n",
    "\n",
    "##### *2.2.1 Organizing movie file*\n",
    "\n",
    "<i><p> it's considered a sci-fi movie if it presents at least one of the genres sci-fi</p></i>"
   ]
  },
  {
   "cell_type": "code",
   "execution_count": 13,
   "metadata": {},
   "outputs": [
    {
     "data": {
      "text/plain": [
       "array(['Adventure|Animation|Children|Comedy|Fantasy',\n",
       "       'Adventure|Children|Fantasy', 'Comedy|Romance', ...,\n",
       "       'Children|Comedy|Fantasy|Mystery', 'Children|Comedy|Crime|Fantasy',\n",
       "       'Comedy|Horror|Mystery|Sci-Fi|Western'], dtype=object)"
      ]
     },
     "execution_count": 13,
     "metadata": {},
     "output_type": "execute_result"
    }
   ],
   "source": [
    "movie_genres = movies['genres'].unique()\n",
    "movie_genres"
   ]
  },
  {
   "cell_type": "code",
   "execution_count": 14,
   "metadata": {},
   "outputs": [
    {
     "data": {
      "text/html": [
       "<div>\n",
       "<style scoped>\n",
       "    .dataframe tbody tr th:only-of-type {\n",
       "        vertical-align: middle;\n",
       "    }\n",
       "\n",
       "    .dataframe tbody tr th {\n",
       "        vertical-align: top;\n",
       "    }\n",
       "\n",
       "    .dataframe thead th {\n",
       "        text-align: right;\n",
       "    }\n",
       "</style>\n",
       "<table border=\"1\" class=\"dataframe\">\n",
       "  <thead>\n",
       "    <tr style=\"text-align: right;\">\n",
       "      <th></th>\n",
       "      <th>movieId</th>\n",
       "      <th>title</th>\n",
       "      <th>genres</th>\n",
       "    </tr>\n",
       "  </thead>\n",
       "  <tbody>\n",
       "    <tr>\n",
       "      <th>23</th>\n",
       "      <td>24</td>\n",
       "      <td>Powder (1995)</td>\n",
       "      <td>Drama|Sci-Fi</td>\n",
       "    </tr>\n",
       "    <tr>\n",
       "      <th>28</th>\n",
       "      <td>29</td>\n",
       "      <td>City of Lost Children, The (Cité des enfants p...</td>\n",
       "      <td>Adventure|Drama|Fantasy|Mystery|Sci-Fi</td>\n",
       "    </tr>\n",
       "    <tr>\n",
       "      <th>31</th>\n",
       "      <td>32</td>\n",
       "      <td>Twelve Monkeys (a.k.a. 12 Monkeys) (1995)</td>\n",
       "      <td>Mystery|Sci-Fi|Thriller</td>\n",
       "    </tr>\n",
       "    <tr>\n",
       "      <th>65</th>\n",
       "      <td>66</td>\n",
       "      <td>Lawnmower Man 2: Beyond Cyberspace (1996)</td>\n",
       "      <td>Action|Sci-Fi|Thriller</td>\n",
       "    </tr>\n",
       "    <tr>\n",
       "      <th>75</th>\n",
       "      <td>76</td>\n",
       "      <td>Screamers (1995)</td>\n",
       "      <td>Action|Sci-Fi|Thriller</td>\n",
       "    </tr>\n",
       "  </tbody>\n",
       "</table>\n",
       "</div>"
      ],
      "text/plain": [
       "    movieId                                              title  \\\n",
       "23       24                                      Powder (1995)   \n",
       "28       29  City of Lost Children, The (Cité des enfants p...   \n",
       "31       32          Twelve Monkeys (a.k.a. 12 Monkeys) (1995)   \n",
       "65       66          Lawnmower Man 2: Beyond Cyberspace (1996)   \n",
       "75       76                                   Screamers (1995)   \n",
       "\n",
       "                                    genres  \n",
       "23                            Drama|Sci-Fi  \n",
       "28  Adventure|Drama|Fantasy|Mystery|Sci-Fi  \n",
       "31                 Mystery|Sci-Fi|Thriller  \n",
       "65                  Action|Sci-Fi|Thriller  \n",
       "75                  Action|Sci-Fi|Thriller  "
      ]
     },
     "execution_count": 14,
     "metadata": {},
     "output_type": "execute_result"
    }
   ],
   "source": [
    "scifi_movies = movies[movies['genres'].str.contains('Sci-Fi')]\n",
    "scifi_movies.shape\n",
    "scifi_movies.head()"
   ]
  },
  {
   "cell_type": "code",
   "execution_count": 51,
   "metadata": {},
   "outputs": [
    {
     "name": "stderr",
     "output_type": "stream",
     "text": [
      "C:\\Users\\u125435\\AppData\\Local\\Temp\\ipykernel_23280\\207150188.py:1: SettingWithCopyWarning: \n",
      "A value is trying to be set on a copy of a slice from a DataFrame.\n",
      "Try using .loc[row_indexer,col_indexer] = value instead\n",
      "\n",
      "See the caveats in the documentation: https://pandas.pydata.org/pandas-docs/stable/user_guide/indexing.html#returning-a-view-versus-a-copy\n",
      "  scifi_movies['year'] = scifi_movies['title'].str.extract('.*\\\\((.*)\\\\).*')\n"
     ]
    },
    {
     "data": {
      "text/html": [
       "<div>\n",
       "<style scoped>\n",
       "    .dataframe tbody tr th:only-of-type {\n",
       "        vertical-align: middle;\n",
       "    }\n",
       "\n",
       "    .dataframe tbody tr th {\n",
       "        vertical-align: top;\n",
       "    }\n",
       "\n",
       "    .dataframe thead th {\n",
       "        text-align: right;\n",
       "    }\n",
       "</style>\n",
       "<table border=\"1\" class=\"dataframe\">\n",
       "  <thead>\n",
       "    <tr style=\"text-align: right;\">\n",
       "      <th></th>\n",
       "      <th>movieId</th>\n",
       "      <th>title</th>\n",
       "      <th>genres</th>\n",
       "      <th>year</th>\n",
       "      <th>number of genres</th>\n",
       "    </tr>\n",
       "  </thead>\n",
       "  <tbody>\n",
       "    <tr>\n",
       "      <th>23</th>\n",
       "      <td>24</td>\n",
       "      <td>Powder (1995)</td>\n",
       "      <td>Drama|Sci-Fi</td>\n",
       "      <td>1995</td>\n",
       "      <td>2</td>\n",
       "    </tr>\n",
       "    <tr>\n",
       "      <th>28</th>\n",
       "      <td>29</td>\n",
       "      <td>City of Lost Children, The (Cité des enfants p...</td>\n",
       "      <td>Adventure|Drama|Fantasy|Mystery|Sci-Fi</td>\n",
       "      <td>1995</td>\n",
       "      <td>5</td>\n",
       "    </tr>\n",
       "    <tr>\n",
       "      <th>31</th>\n",
       "      <td>32</td>\n",
       "      <td>Twelve Monkeys (a.k.a. 12 Monkeys) (1995)</td>\n",
       "      <td>Mystery|Sci-Fi|Thriller</td>\n",
       "      <td>1995</td>\n",
       "      <td>3</td>\n",
       "    </tr>\n",
       "    <tr>\n",
       "      <th>65</th>\n",
       "      <td>66</td>\n",
       "      <td>Lawnmower Man 2: Beyond Cyberspace (1996)</td>\n",
       "      <td>Action|Sci-Fi|Thriller</td>\n",
       "      <td>1996</td>\n",
       "      <td>3</td>\n",
       "    </tr>\n",
       "    <tr>\n",
       "      <th>75</th>\n",
       "      <td>76</td>\n",
       "      <td>Screamers (1995)</td>\n",
       "      <td>Action|Sci-Fi|Thriller</td>\n",
       "      <td>1995</td>\n",
       "      <td>3</td>\n",
       "    </tr>\n",
       "  </tbody>\n",
       "</table>\n",
       "</div>"
      ],
      "text/plain": [
       "    movieId                                              title  \\\n",
       "23       24                                      Powder (1995)   \n",
       "28       29  City of Lost Children, The (Cité des enfants p...   \n",
       "31       32          Twelve Monkeys (a.k.a. 12 Monkeys) (1995)   \n",
       "65       66          Lawnmower Man 2: Beyond Cyberspace (1996)   \n",
       "75       76                                   Screamers (1995)   \n",
       "\n",
       "                                    genres  year  number of genres  \n",
       "23                            Drama|Sci-Fi  1995                 2  \n",
       "28  Adventure|Drama|Fantasy|Mystery|Sci-Fi  1995                 5  \n",
       "31                 Mystery|Sci-Fi|Thriller  1995                 3  \n",
       "65                  Action|Sci-Fi|Thriller  1996                 3  \n",
       "75                  Action|Sci-Fi|Thriller  1995                 3  "
      ]
     },
     "execution_count": 51,
     "metadata": {},
     "output_type": "execute_result"
    }
   ],
   "source": [
    "scifi_movies['year'] = scifi_movies['title'].str.extract('.*\\\\((.*)\\\\).*')\n",
    "scifi_movies.head()"
   ]
  },
  {
   "cell_type": "code",
   "execution_count": 16,
   "metadata": {},
   "outputs": [
    {
     "name": "stderr",
     "output_type": "stream",
     "text": [
      "C:\\Users\\u125435\\AppData\\Local\\Temp\\ipykernel_23280\\248679904.py:3: SettingWithCopyWarning: \n",
      "A value is trying to be set on a copy of a slice from a DataFrame.\n",
      "Try using .loc[row_indexer,col_indexer] = value instead\n",
      "\n",
      "See the caveats in the documentation: https://pandas.pydata.org/pandas-docs/stable/user_guide/indexing.html#returning-a-view-versus-a-copy\n",
      "  scifi_movies['number of genres'] = scifi_movies['genres'].str.count(search_string,re.I)+1\n"
     ]
    },
    {
     "data": {
      "text/plain": [
       "(3595, 5)"
      ]
     },
     "execution_count": 16,
     "metadata": {},
     "output_type": "execute_result"
    }
   ],
   "source": [
    "# getting the number of genres for each movie\n",
    "search_string = '\\|'\n",
    "scifi_movies['number of genres'] = scifi_movies['genres'].str.count(search_string,re.I)+1\n",
    "scifi_movies.shape"
   ]
  },
  {
   "cell_type": "code",
   "execution_count": 17,
   "metadata": {},
   "outputs": [
    {
     "data": {
      "text/html": [
       "<div>\n",
       "<style scoped>\n",
       "    .dataframe tbody tr th:only-of-type {\n",
       "        vertical-align: middle;\n",
       "    }\n",
       "\n",
       "    .dataframe tbody tr th {\n",
       "        vertical-align: top;\n",
       "    }\n",
       "\n",
       "    .dataframe thead th {\n",
       "        text-align: right;\n",
       "    }\n",
       "</style>\n",
       "<table border=\"1\" class=\"dataframe\">\n",
       "  <thead>\n",
       "    <tr style=\"text-align: right;\">\n",
       "      <th></th>\n",
       "      <th>movieId</th>\n",
       "      <th>title</th>\n",
       "      <th>genres</th>\n",
       "      <th>year</th>\n",
       "      <th>number of genres</th>\n",
       "    </tr>\n",
       "  </thead>\n",
       "  <tbody>\n",
       "    <tr>\n",
       "      <th>2220</th>\n",
       "      <td>2311</td>\n",
       "      <td>2010: The Year We Make Contact (1984)</td>\n",
       "      <td>Sci-Fi</td>\n",
       "      <td>1984</td>\n",
       "      <td>1</td>\n",
       "    </tr>\n",
       "    <tr>\n",
       "      <th>2435</th>\n",
       "      <td>2526</td>\n",
       "      <td>Meteor (1979)</td>\n",
       "      <td>Sci-Fi</td>\n",
       "      <td>1979</td>\n",
       "      <td>1</td>\n",
       "    </tr>\n",
       "    <tr>\n",
       "      <th>2487</th>\n",
       "      <td>2578</td>\n",
       "      <td>Sticky Fingers of Time, The (1997)</td>\n",
       "      <td>Sci-Fi</td>\n",
       "      <td>1997</td>\n",
       "      <td>1</td>\n",
       "    </tr>\n",
       "    <tr>\n",
       "      <th>2566</th>\n",
       "      <td>2658</td>\n",
       "      <td>Flying Saucer, The (1950)</td>\n",
       "      <td>Sci-Fi</td>\n",
       "      <td>1950</td>\n",
       "      <td>1</td>\n",
       "    </tr>\n",
       "    <tr>\n",
       "      <th>2569</th>\n",
       "      <td>2661</td>\n",
       "      <td>It Came from Outer Space (1953)</td>\n",
       "      <td>Sci-Fi</td>\n",
       "      <td>1953</td>\n",
       "      <td>1</td>\n",
       "    </tr>\n",
       "  </tbody>\n",
       "</table>\n",
       "</div>"
      ],
      "text/plain": [
       "      movieId                                  title  genres  year  \\\n",
       "2220     2311  2010: The Year We Make Contact (1984)  Sci-Fi  1984   \n",
       "2435     2526                          Meteor (1979)  Sci-Fi  1979   \n",
       "2487     2578     Sticky Fingers of Time, The (1997)  Sci-Fi  1997   \n",
       "2566     2658              Flying Saucer, The (1950)  Sci-Fi  1950   \n",
       "2569     2661        It Came from Outer Space (1953)  Sci-Fi  1953   \n",
       "\n",
       "      number of genres  \n",
       "2220                 1  \n",
       "2435                 1  \n",
       "2487                 1  \n",
       "2566                 1  \n",
       "2569                 1  "
      ]
     },
     "execution_count": 17,
     "metadata": {},
     "output_type": "execute_result"
    }
   ],
   "source": [
    "scifi_movies_Check = scifi_movies[scifi_movies['number of genres']==1]\n",
    "scifi_movies_Check.head()"
   ]
  },
  {
   "cell_type": "code",
   "execution_count": 18,
   "metadata": {},
   "outputs": [
    {
     "data": {
      "text/plain": [
       "3595"
      ]
     },
     "execution_count": 18,
     "metadata": {},
     "output_type": "execute_result"
    }
   ],
   "source": [
    "scifi_movieID = scifi_movies['movieId'].unique().tolist()\n",
    "len(scifi_movieID)"
   ]
  },
  {
   "cell_type": "markdown",
   "metadata": {},
   "source": [
    "### 2.2.2 Tratamento dos dados de tags\n",
    "\n",
    "##### *2.2.2 Organizing tags file*"
   ]
  },
  {
   "cell_type": "code",
   "execution_count": 19,
   "metadata": {},
   "outputs": [
    {
     "data": {
      "text/html": [
       "<div>\n",
       "<style scoped>\n",
       "    .dataframe tbody tr th:only-of-type {\n",
       "        vertical-align: middle;\n",
       "    }\n",
       "\n",
       "    .dataframe tbody tr th {\n",
       "        vertical-align: top;\n",
       "    }\n",
       "\n",
       "    .dataframe thead th {\n",
       "        text-align: right;\n",
       "    }\n",
       "</style>\n",
       "<table border=\"1\" class=\"dataframe\">\n",
       "  <thead>\n",
       "    <tr style=\"text-align: right;\">\n",
       "      <th></th>\n",
       "      <th>userId</th>\n",
       "      <th>movieId</th>\n",
       "      <th>tag</th>\n",
       "      <th>timestamp</th>\n",
       "    </tr>\n",
       "  </thead>\n",
       "  <tbody>\n",
       "    <tr>\n",
       "      <th>0</th>\n",
       "      <td>3</td>\n",
       "      <td>260</td>\n",
       "      <td>classic</td>\n",
       "      <td>1439472355</td>\n",
       "    </tr>\n",
       "    <tr>\n",
       "      <th>1</th>\n",
       "      <td>3</td>\n",
       "      <td>260</td>\n",
       "      <td>sci-fi</td>\n",
       "      <td>1439472256</td>\n",
       "    </tr>\n",
       "    <tr>\n",
       "      <th>2</th>\n",
       "      <td>4</td>\n",
       "      <td>1732</td>\n",
       "      <td>dark comedy</td>\n",
       "      <td>1573943598</td>\n",
       "    </tr>\n",
       "    <tr>\n",
       "      <th>3</th>\n",
       "      <td>4</td>\n",
       "      <td>1732</td>\n",
       "      <td>great dialogue</td>\n",
       "      <td>1573943604</td>\n",
       "    </tr>\n",
       "    <tr>\n",
       "      <th>4</th>\n",
       "      <td>4</td>\n",
       "      <td>7569</td>\n",
       "      <td>so bad it's good</td>\n",
       "      <td>1573943455</td>\n",
       "    </tr>\n",
       "  </tbody>\n",
       "</table>\n",
       "</div>"
      ],
      "text/plain": [
       "   userId  movieId               tag   timestamp\n",
       "0       3      260           classic  1439472355\n",
       "1       3      260            sci-fi  1439472256\n",
       "2       4     1732       dark comedy  1573943598\n",
       "3       4     1732    great dialogue  1573943604\n",
       "4       4     7569  so bad it's good  1573943455"
      ]
     },
     "execution_count": 19,
     "metadata": {},
     "output_type": "execute_result"
    }
   ],
   "source": [
    "movie_tags.head()"
   ]
  },
  {
   "cell_type": "markdown",
   "metadata": {},
   "source": [
    "<p>removendo tags não relacionadas a filmes de ficção científica</p>\n",
    "\n",
    "<i><p>removing tags that are not related to scifi movies</p></i>"
   ]
  },
  {
   "cell_type": "code",
   "execution_count": 20,
   "metadata": {},
   "outputs": [
    {
     "data": {
      "text/html": [
       "<div>\n",
       "<style scoped>\n",
       "    .dataframe tbody tr th:only-of-type {\n",
       "        vertical-align: middle;\n",
       "    }\n",
       "\n",
       "    .dataframe tbody tr th {\n",
       "        vertical-align: top;\n",
       "    }\n",
       "\n",
       "    .dataframe thead th {\n",
       "        text-align: right;\n",
       "    }\n",
       "</style>\n",
       "<table border=\"1\" class=\"dataframe\">\n",
       "  <thead>\n",
       "    <tr style=\"text-align: right;\">\n",
       "      <th></th>\n",
       "      <th>userId</th>\n",
       "      <th>movieId</th>\n",
       "      <th>tag</th>\n",
       "      <th>timestamp</th>\n",
       "    </tr>\n",
       "  </thead>\n",
       "  <tbody>\n",
       "    <tr>\n",
       "      <th>0</th>\n",
       "      <td>3</td>\n",
       "      <td>260</td>\n",
       "      <td>classic</td>\n",
       "      <td>1439472355</td>\n",
       "    </tr>\n",
       "    <tr>\n",
       "      <th>1</th>\n",
       "      <td>3</td>\n",
       "      <td>260</td>\n",
       "      <td>sci-fi</td>\n",
       "      <td>1439472256</td>\n",
       "    </tr>\n",
       "    <tr>\n",
       "      <th>4</th>\n",
       "      <td>4</td>\n",
       "      <td>7569</td>\n",
       "      <td>so bad it's good</td>\n",
       "      <td>1573943455</td>\n",
       "    </tr>\n",
       "    <tr>\n",
       "      <th>7</th>\n",
       "      <td>4</td>\n",
       "      <td>115713</td>\n",
       "      <td>artificial intelligence</td>\n",
       "      <td>1573942979</td>\n",
       "    </tr>\n",
       "    <tr>\n",
       "      <th>8</th>\n",
       "      <td>4</td>\n",
       "      <td>115713</td>\n",
       "      <td>philosophical</td>\n",
       "      <td>1573943033</td>\n",
       "    </tr>\n",
       "  </tbody>\n",
       "</table>\n",
       "</div>"
      ],
      "text/plain": [
       "   userId  movieId                      tag   timestamp\n",
       "0       3      260                  classic  1439472355\n",
       "1       3      260                   sci-fi  1439472256\n",
       "4       4     7569         so bad it's good  1573943455\n",
       "7       4   115713  artificial intelligence  1573942979\n",
       "8       4   115713            philosophical  1573943033"
      ]
     },
     "execution_count": 20,
     "metadata": {},
     "output_type": "execute_result"
    }
   ],
   "source": [
    "scifi_tags = movie_tags[movie_tags['movieId'].isin(scifi_movieID)]\n",
    "scifi_tags.head()"
   ]
  },
  {
   "cell_type": "markdown",
   "metadata": {},
   "source": [
    "<p>agrupando tags por movieID</p>\n",
    "\n",
    "<i><p>grouping tags by movieID</p></i>"
   ]
  },
  {
   "cell_type": "code",
   "execution_count": 21,
   "metadata": {},
   "outputs": [
    {
     "data": {
      "text/html": [
       "<div>\n",
       "<style scoped>\n",
       "    .dataframe tbody tr th:only-of-type {\n",
       "        vertical-align: middle;\n",
       "    }\n",
       "\n",
       "    .dataframe tbody tr th {\n",
       "        vertical-align: top;\n",
       "    }\n",
       "\n",
       "    .dataframe thead th {\n",
       "        text-align: right;\n",
       "    }\n",
       "</style>\n",
       "<table border=\"1\" class=\"dataframe\">\n",
       "  <thead>\n",
       "    <tr style=\"text-align: right;\">\n",
       "      <th></th>\n",
       "      <th>movieId</th>\n",
       "      <th>tag</th>\n",
       "    </tr>\n",
       "  </thead>\n",
       "  <tbody>\n",
       "    <tr>\n",
       "      <th>0</th>\n",
       "      <td>24</td>\n",
       "      <td>42</td>\n",
       "    </tr>\n",
       "    <tr>\n",
       "      <th>1</th>\n",
       "      <td>29</td>\n",
       "      <td>387</td>\n",
       "    </tr>\n",
       "    <tr>\n",
       "      <th>2</th>\n",
       "      <td>32</td>\n",
       "      <td>1485</td>\n",
       "    </tr>\n",
       "    <tr>\n",
       "      <th>3</th>\n",
       "      <td>66</td>\n",
       "      <td>10</td>\n",
       "    </tr>\n",
       "    <tr>\n",
       "      <th>4</th>\n",
       "      <td>76</td>\n",
       "      <td>52</td>\n",
       "    </tr>\n",
       "  </tbody>\n",
       "</table>\n",
       "</div>"
      ],
      "text/plain": [
       "   movieId   tag\n",
       "0       24    42\n",
       "1       29   387\n",
       "2       32  1485\n",
       "3       66    10\n",
       "4       76    52"
      ]
     },
     "execution_count": 21,
     "metadata": {},
     "output_type": "execute_result"
    }
   ],
   "source": [
    "scifi_compiled_tags = scifi_tags[['movieId','tag']].groupby('movieId',as_index=False).count()\n",
    "scifi_compiled_tags.head()"
   ]
  },
  {
   "cell_type": "code",
   "execution_count": 22,
   "metadata": {},
   "outputs": [
    {
     "data": {
      "text/plain": [
       "1485"
      ]
     },
     "execution_count": 22,
     "metadata": {},
     "output_type": "execute_result"
    }
   ],
   "source": [
    "movie_tags[movie_tags['movieId']==32].shape[0]"
   ]
  },
  {
   "cell_type": "markdown",
   "metadata": {},
   "source": [
    "### 2.2.3 Tratamento dos dados de avaliação\n",
    "\n",
    "##### *2.2.3 Organizing rating file*\n"
   ]
  },
  {
   "cell_type": "code",
   "execution_count": 23,
   "metadata": {},
   "outputs": [
    {
     "data": {
      "text/plain": [
       "Index(['userId', 'movieId', 'rating', 'timestamp'], dtype='object')"
      ]
     },
     "execution_count": 23,
     "metadata": {},
     "output_type": "execute_result"
    }
   ],
   "source": [
    "ratings.columns"
   ]
  },
  {
   "cell_type": "code",
   "execution_count": 24,
   "metadata": {},
   "outputs": [
    {
     "data": {
      "text/html": [
       "<div>\n",
       "<style scoped>\n",
       "    .dataframe tbody tr th:only-of-type {\n",
       "        vertical-align: middle;\n",
       "    }\n",
       "\n",
       "    .dataframe tbody tr th {\n",
       "        vertical-align: top;\n",
       "    }\n",
       "\n",
       "    .dataframe thead th {\n",
       "        text-align: right;\n",
       "    }\n",
       "</style>\n",
       "<table border=\"1\" class=\"dataframe\">\n",
       "  <thead>\n",
       "    <tr style=\"text-align: right;\">\n",
       "      <th></th>\n",
       "      <th>movieId</th>\n",
       "      <th>rating</th>\n",
       "    </tr>\n",
       "  </thead>\n",
       "  <tbody>\n",
       "    <tr>\n",
       "      <th>0</th>\n",
       "      <td>1</td>\n",
       "      <td>3.893708</td>\n",
       "    </tr>\n",
       "    <tr>\n",
       "      <th>1</th>\n",
       "      <td>2</td>\n",
       "      <td>3.251527</td>\n",
       "    </tr>\n",
       "    <tr>\n",
       "      <th>2</th>\n",
       "      <td>3</td>\n",
       "      <td>3.142028</td>\n",
       "    </tr>\n",
       "    <tr>\n",
       "      <th>3</th>\n",
       "      <td>4</td>\n",
       "      <td>2.853547</td>\n",
       "    </tr>\n",
       "    <tr>\n",
       "      <th>4</th>\n",
       "      <td>5</td>\n",
       "      <td>3.058434</td>\n",
       "    </tr>\n",
       "  </tbody>\n",
       "</table>\n",
       "</div>"
      ],
      "text/plain": [
       "   movieId    rating\n",
       "0        1  3.893708\n",
       "1        2  3.251527\n",
       "2        3  3.142028\n",
       "3        4  2.853547\n",
       "4        5  3.058434"
      ]
     },
     "execution_count": 24,
     "metadata": {},
     "output_type": "execute_result"
    }
   ],
   "source": [
    "average_rate = ratings[['movieId','rating']].groupby('movieId',as_index=False).mean()\n",
    "average_rate.head()"
   ]
  },
  {
   "cell_type": "markdown",
   "metadata": {},
   "source": [
    "### 2.2.4 Combinando datasets\n",
    "\n",
    "#### 2.2.4 Merging datasets"
   ]
  },
  {
   "cell_type": "markdown",
   "metadata": {},
   "source": [
    "<p>combinando tabelas de filmes e avaliações</p>\n",
    "<p>merging movie and ratings tables</p>"
   ]
  },
  {
   "cell_type": "code",
   "execution_count": 25,
   "metadata": {},
   "outputs": [],
   "source": [
    "merge_1 = scifi_movies.merge(average_rate,on='movieId', how='inner')"
   ]
  },
  {
   "cell_type": "code",
   "execution_count": 26,
   "metadata": {},
   "outputs": [],
   "source": [
    "scifi_movie_db= merge_1.merge(scifi_compiled_tags,on='movieId', how='inner')"
   ]
  },
  {
   "cell_type": "code",
   "execution_count": 27,
   "metadata": {},
   "outputs": [
    {
     "data": {
      "text/plain": [
       "movieId             False\n",
       "title               False\n",
       "genres              False\n",
       "year                 True\n",
       "number of genres    False\n",
       "rating              False\n",
       "tag                 False\n",
       "dtype: bool"
      ]
     },
     "execution_count": 27,
     "metadata": {},
     "output_type": "execute_result"
    }
   ],
   "source": [
    "scifi_movie_db.isnull().any()"
   ]
  },
  {
   "cell_type": "code",
   "execution_count": 28,
   "metadata": {},
   "outputs": [
    {
     "name": "stdout",
     "output_type": "stream",
     "text": [
      "7\n"
     ]
    }
   ],
   "source": [
    "print(scifi_movie_db['year'].isnull().sum().sum())"
   ]
  },
  {
   "cell_type": "code",
   "execution_count": 29,
   "metadata": {},
   "outputs": [
    {
     "data": {
      "text/plain": [
       "movieId               int64\n",
       "title                object\n",
       "genres               object\n",
       "year                 object\n",
       "number of genres      int64\n",
       "rating              float64\n",
       "tag                   int64\n",
       "dtype: object"
      ]
     },
     "execution_count": 29,
     "metadata": {},
     "output_type": "execute_result"
    }
   ],
   "source": [
    "scifi_movie_db=scifi_movie_db.dropna()\n",
    "scifi_movie_db\n",
    "scifi_movie_db.dtypes"
   ]
  },
  {
   "cell_type": "code",
   "execution_count": 30,
   "metadata": {},
   "outputs": [
    {
     "name": "stdout",
     "output_type": "stream",
     "text": [
      "['1995', '1996', '1994', '1977', '1993', '1982', '1991', '1981', '1968', '1965', '1954', '1992', '1973', '1989', '1980', '1985', '1986', '1971', '1983', '1979', '1984', '1951', '1987', '1988', '1956', '1958', '1935', '1997', '1998', '1959', '1927', '1990', '1978', '1963', '1975', '1962', '1976', '1999', '1970', '1972', '1960', '1931', '1955', '1950', '1953', '1940', '2000', '1957', '1967', '1961', '1966', '1933', '2001', '1925', '2002', '1964', '1952', '2003', '1936', '1969', '2004', '1974', '1932', '1920', '2005', '2006', '1949', '1902', '2007', '1941', '2008', '1939', '2009', '1916', '1938', '1924', '2010', 'Das Millionenspiel', '1942', '1929', '2011', '1930', '2012', '1943', '1937', '1910', '2013', '1934', '2014', '2015', '2017', '2016', '2018', '2019', '1898', '1904', '1948', '1944', '1908', '1899', '1906', '1912', '1901']\n"
     ]
    }
   ],
   "source": [
    "print(scifi_movie_db['year'].unique().tolist())"
   ]
  },
  {
   "cell_type": "code",
   "execution_count": 31,
   "metadata": {},
   "outputs": [
    {
     "name": "stdout",
     "output_type": "stream",
     "text": [
      "<class 'pandas.core.frame.DataFrame'>\n",
      "Int64Index: 2800 entries, 0 to 2807\n",
      "Data columns (total 7 columns):\n",
      " #   Column            Non-Null Count  Dtype  \n",
      "---  ------            --------------  -----  \n",
      " 0   movieId           2800 non-null   int64  \n",
      " 1   title             2800 non-null   object \n",
      " 2   genres            2800 non-null   object \n",
      " 3   year              2800 non-null   object \n",
      " 4   number of genres  2800 non-null   int64  \n",
      " 5   rating            2800 non-null   float64\n",
      " 6   tag               2800 non-null   int64  \n",
      "dtypes: float64(1), int64(3), object(3)\n",
      "memory usage: 175.0+ KB\n"
     ]
    }
   ],
   "source": [
    "scifi_movie_db = scifi_movie_db[scifi_movie_db['year']!= 'Das Millionenspiel']\n",
    "scifi_movie_db.info()"
   ]
  },
  {
   "cell_type": "code",
   "execution_count": 32,
   "metadata": {},
   "outputs": [
    {
     "name": "stdout",
     "output_type": "stream",
     "text": [
      "<class 'pandas.core.frame.DataFrame'>\n",
      "Int64Index: 2800 entries, 0 to 2807\n",
      "Data columns (total 7 columns):\n",
      " #   Column            Non-Null Count  Dtype  \n",
      "---  ------            --------------  -----  \n",
      " 0   movieId           2800 non-null   int64  \n",
      " 1   title             2800 non-null   object \n",
      " 2   genres            2800 non-null   object \n",
      " 3   year              2800 non-null   int32  \n",
      " 4   number of genres  2800 non-null   int64  \n",
      " 5   rating            2800 non-null   float64\n",
      " 6   tag               2800 non-null   int64  \n",
      "dtypes: float64(1), int32(1), int64(3), object(2)\n",
      "memory usage: 164.1+ KB\n"
     ]
    }
   ],
   "source": [
    "scifi_movie_db['year'] = scifi_movie_db['year'].astype(int)\n",
    "scifi_movie_db.info()"
   ]
  },
  {
   "cell_type": "markdown",
   "metadata": {},
   "source": [
    "<p> Como o escopo deste estudo  procura ver o impacto da evolução de efeitos especiais computacionais, após uma breve pesquisa no IMDB, confirmou-se que o primeiro filme com efeitos especiais computacionais chama-se Westworld (1973). Portanto, todos os filmes anteriores a esse ano serão desconsiderados</p>\n",
    "\n",
    "<i><p>As the scope of study aims to see the impact of CGI evolution on Sci fi production, after a quick reasearch it was confirmed that the first sci-fi movie to make use of CGI was called Westworld (1973). Therefore, all movies before this year will be removed from the dataset</p></i>"
   ]
  },
  {
   "cell_type": "code",
   "execution_count": 33,
   "metadata": {},
   "outputs": [],
   "source": [
    "scifi_movie_db=scifi_movie_db[(scifi_movie_db['year']>=1973)]"
   ]
  },
  {
   "cell_type": "markdown",
   "metadata": {},
   "source": [
    "<p> Analisando a nota de \"Westworld\", primeiro filme a usar efeitos especiais de computador</p>\n",
    "\n",
    "<p> Analyzing 'Westworld' rating - first movie that made use of CGI</p>"
   ]
  },
  {
   "cell_type": "code",
   "execution_count": 34,
   "metadata": {},
   "outputs": [
    {
     "data": {
      "text/html": [
       "<div>\n",
       "<style scoped>\n",
       "    .dataframe tbody tr th:only-of-type {\n",
       "        vertical-align: middle;\n",
       "    }\n",
       "\n",
       "    .dataframe tbody tr th {\n",
       "        vertical-align: top;\n",
       "    }\n",
       "\n",
       "    .dataframe thead th {\n",
       "        text-align: right;\n",
       "    }\n",
       "</style>\n",
       "<table border=\"1\" class=\"dataframe\">\n",
       "  <thead>\n",
       "    <tr style=\"text-align: right;\">\n",
       "      <th></th>\n",
       "      <th>movieId</th>\n",
       "      <th>title</th>\n",
       "      <th>genres</th>\n",
       "      <th>year</th>\n",
       "      <th>number of genres</th>\n",
       "      <th>rating</th>\n",
       "      <th>tag</th>\n",
       "    </tr>\n",
       "  </thead>\n",
       "  <tbody>\n",
       "    <tr>\n",
       "      <th>160</th>\n",
       "      <td>2527</td>\n",
       "      <td>Westworld (1973)</td>\n",
       "      <td>Action|Sci-Fi|Thriller|Western</td>\n",
       "      <td>1973</td>\n",
       "      <td>4</td>\n",
       "      <td>3.402909</td>\n",
       "      <td>110</td>\n",
       "    </tr>\n",
       "  </tbody>\n",
       "</table>\n",
       "</div>"
      ],
      "text/plain": [
       "     movieId             title                          genres  year  \\\n",
       "160     2527  Westworld (1973)  Action|Sci-Fi|Thriller|Western  1973   \n",
       "\n",
       "     number of genres    rating  tag  \n",
       "160                 4  3.402909  110  "
      ]
     },
     "execution_count": 34,
     "metadata": {},
     "output_type": "execute_result"
    }
   ],
   "source": [
    "westworld_rate = scifi_movie_db[scifi_movie_db['title'].str.contains(\"Westworld\")]\n",
    "westworld_rate"
   ]
  },
  {
   "cell_type": "code",
   "execution_count": 35,
   "metadata": {},
   "outputs": [
    {
     "data": {
      "text/html": [
       "<div>\n",
       "<style scoped>\n",
       "    .dataframe tbody tr th:only-of-type {\n",
       "        vertical-align: middle;\n",
       "    }\n",
       "\n",
       "    .dataframe tbody tr th {\n",
       "        vertical-align: top;\n",
       "    }\n",
       "\n",
       "    .dataframe thead th {\n",
       "        text-align: right;\n",
       "    }\n",
       "</style>\n",
       "<table border=\"1\" class=\"dataframe\">\n",
       "  <thead>\n",
       "    <tr style=\"text-align: right;\">\n",
       "      <th></th>\n",
       "      <th>year</th>\n",
       "      <th>movieId</th>\n",
       "    </tr>\n",
       "  </thead>\n",
       "  <tbody>\n",
       "    <tr>\n",
       "      <th>0</th>\n",
       "      <td>1973</td>\n",
       "      <td>32</td>\n",
       "    </tr>\n",
       "    <tr>\n",
       "      <th>1</th>\n",
       "      <td>1974</td>\n",
       "      <td>15</td>\n",
       "    </tr>\n",
       "    <tr>\n",
       "      <th>2</th>\n",
       "      <td>1975</td>\n",
       "      <td>17</td>\n",
       "    </tr>\n",
       "    <tr>\n",
       "      <th>3</th>\n",
       "      <td>1976</td>\n",
       "      <td>11</td>\n",
       "    </tr>\n",
       "    <tr>\n",
       "      <th>4</th>\n",
       "      <td>1977</td>\n",
       "      <td>21</td>\n",
       "    </tr>\n",
       "  </tbody>\n",
       "</table>\n",
       "</div>"
      ],
      "text/plain": [
       "   year  movieId\n",
       "0  1973       32\n",
       "1  1974       15\n",
       "2  1975       17\n",
       "3  1976       11\n",
       "4  1977       21"
      ]
     },
     "execution_count": 35,
     "metadata": {},
     "output_type": "execute_result"
    }
   ],
   "source": [
    "number_of_films = scifi_movie_db[['year','movieId']].groupby('year',as_index=False).count()\n",
    "number_of_films.sort_values(by=['year']).head(5)"
   ]
  },
  {
   "cell_type": "code",
   "execution_count": 36,
   "metadata": {},
   "outputs": [
    {
     "name": "stdout",
     "output_type": "stream",
     "text": [
      "2019-11-21 06:11:36\n"
     ]
    }
   ],
   "source": [
    "movie_tags['parsed_time'] = pd.to_datetime(movie_tags['timestamp'], unit='s')\n",
    "movie_tags.head()\n",
    "print(movie_tags['parsed_time'].max())"
   ]
  },
  {
   "cell_type": "markdown",
   "metadata": {},
   "source": [
    "<p> O último registro de tags de filme foi em novembro de 2019,o que indica que esse ano está incompleto e, portanto, seá removido da análise</p>\n",
    "<p> The last timestamp is from november 2019, meaning that the dataset for this year is not complete, therefore this year will be not taken into account</p>"
   ]
  },
  {
   "cell_type": "code",
   "execution_count": 37,
   "metadata": {},
   "outputs": [
    {
     "data": {
      "text/html": [
       "<div>\n",
       "<style scoped>\n",
       "    .dataframe tbody tr th:only-of-type {\n",
       "        vertical-align: middle;\n",
       "    }\n",
       "\n",
       "    .dataframe tbody tr th {\n",
       "        vertical-align: top;\n",
       "    }\n",
       "\n",
       "    .dataframe thead th {\n",
       "        text-align: right;\n",
       "    }\n",
       "</style>\n",
       "<table border=\"1\" class=\"dataframe\">\n",
       "  <thead>\n",
       "    <tr style=\"text-align: right;\">\n",
       "      <th></th>\n",
       "      <th>year</th>\n",
       "      <th>movieId</th>\n",
       "    </tr>\n",
       "  </thead>\n",
       "  <tbody>\n",
       "    <tr>\n",
       "      <th>0</th>\n",
       "      <td>1973</td>\n",
       "      <td>32</td>\n",
       "    </tr>\n",
       "    <tr>\n",
       "      <th>1</th>\n",
       "      <td>1974</td>\n",
       "      <td>15</td>\n",
       "    </tr>\n",
       "    <tr>\n",
       "      <th>2</th>\n",
       "      <td>1975</td>\n",
       "      <td>17</td>\n",
       "    </tr>\n",
       "    <tr>\n",
       "      <th>3</th>\n",
       "      <td>1976</td>\n",
       "      <td>11</td>\n",
       "    </tr>\n",
       "    <tr>\n",
       "      <th>4</th>\n",
       "      <td>1977</td>\n",
       "      <td>21</td>\n",
       "    </tr>\n",
       "  </tbody>\n",
       "</table>\n",
       "</div>"
      ],
      "text/plain": [
       "   year  movieId\n",
       "0  1973       32\n",
       "1  1974       15\n",
       "2  1975       17\n",
       "3  1976       11\n",
       "4  1977       21"
      ]
     },
     "execution_count": 37,
     "metadata": {},
     "output_type": "execute_result"
    }
   ],
   "source": [
    "scifi_movie_db=scifi_movie_db[(scifi_movie_db['year']<=2018)]\n",
    "number_of_films = scifi_movie_db[['year','movieId']].groupby('year',as_index=False).count()\n",
    "number_of_films.sort_values(by=['year']).head(5)"
   ]
  },
  {
   "cell_type": "markdown",
   "metadata": {},
   "source": [
    "# 3. Visualização dos dados\n",
    "## *3. Data Visualization*"
   ]
  },
  {
   "cell_type": "code",
   "execution_count": 46,
   "metadata": {},
   "outputs": [
    {
     "data": {
      "text/plain": [
       "<bound method _AxesBase.set_xlabel of <AxesSubplot:title={'center':'Growth of Sci-fi productions since the first movie that made use of CGI'}, xlabel='year', ylabel='# of sci-fi movies'>>"
      ]
     },
     "execution_count": 46,
     "metadata": {},
     "output_type": "execute_result"
    },
    {
     "data": {
      "image/png": "[encoded data removed]",
      "text/plain": [
       "<Figure size 864x576 with 1 Axes>"
      ]
     },
     "metadata": {
      "needs_background": "light"
     },
     "output_type": "display_data"
    }
   ],
   "source": [
    "%matplotlib inline\n",
    "line = number_of_films.plot(x='year',y='movieId',color='#3f6685',figsize=(12,8), grid=True)\n",
    "plt.title('Growth of Sci-fi productions since the first movie that made use of CGI',)\n",
    "plt.ylabel('# of sci-fi movies')\n",
    "line.set_xlabel"
   ]
  },
  {
   "cell_type": "code",
   "execution_count": 47,
   "metadata": {},
   "outputs": [
    {
     "name": "stdout",
     "output_type": "stream",
     "text": [
      "2.806270946554637\n"
     ]
    },
    {
     "data": {
      "image/png": "[encoded data removed]",
      "text/plain": [
       "<Figure size 864x576 with 1 Axes>"
      ]
     },
     "metadata": {
      "needs_background": "light"
     },
     "output_type": "display_data"
    }
   ],
   "source": [
    "\n",
    "average_year_rate= scifi_movie_db[['year','rating']].groupby('year',as_index=False).mean()\n",
    "line = average_year_rate.plot(x='year',y='rating',color='#a22016',figsize=(12,8), grid=True)\n",
    "plt.title('Average of ratings (yearly)',fontsize=18)\n",
    "plt.ylabel('rating average',fontsize=18)\n",
    "plt.xlabel('year of release',fontsize=18)\n",
    "plt.xticks(fontsize=14)\n",
    "plt.yticks(fontsize=14)\n",
    "plt.legend(fontsize=12)\n",
    "line.set_xlabel\n",
    "global_average=average_year_rate['rating'].mean()\n",
    "#calculating global average\n",
    "print(global_average)"
   ]
  },
  {
   "cell_type": "markdown",
   "metadata": {},
   "source": [
    "<p>Usando gráfico de dispersão para verificar se há alguma correlação entre média de avaliação e ano de lançamento</p>\n",
    "\n",
    "<i><p>Using a scatterplot to check for correlation between rating average and year of release</p></i>"
   ]
  },
  {
   "cell_type": "code",
   "execution_count": 48,
   "metadata": {},
   "outputs": [
    {
     "name": "stderr",
     "output_type": "stream",
     "text": [
      "No handles with labels found to put in legend.\n"
     ]
    },
    {
     "data": {
      "text/plain": [
       "<matplotlib.legend.Legend at 0x209b0b2d970>"
      ]
     },
     "execution_count": 48,
     "metadata": {},
     "output_type": "execute_result"
    },
    {
     "data": {
      "image/png": "[encoded data removed]",
      "text/plain": [
       "<Figure size 864x576 with 1 Axes>"
      ]
     },
     "metadata": {
      "needs_background": "light"
     },
     "output_type": "display_data"
    }
   ],
   "source": [
    "fig, ax = plt.subplots(figsize=(12,8))\n",
    "sns.scatterplot(data=average_year_rate,y='rating',x='year')\n",
    "plt.title('Scatterplot of movie year and rating',fontsize=18)\n",
    "plt.xticks(fontsize=14)\n",
    "plt.ylabel('rating average',fontsize=18)\n",
    "plt.xlabel('year of release',fontsize=18)\n",
    "plt.yticks(fontsize=14)\n",
    "plt.legend(fontsize=12)\n"
   ]
  },
  {
   "cell_type": "markdown",
   "metadata": {},
   "source": [
    "<p>Como não houve correlação entre avaliação média e ano de lançamento do filme, será verificado se há correlação entre as demais informações dos filmes. No lugar da coluna gênero que contém a informação de quais gêneros  um filme pertence (categórico) será usado a quantidade de gêneros que um filme possui (numérico)</p>\n",
    "<i><p>Since there was no correlation regarding year of the movie and ratings, we will check for correlation among other information. However, the fields movieID and genre will not be used as they are identifiers and categorical information, respectively. Genre will be evaluated by the field # of genres</p> </i>\n"
   ]
  },
  {
   "cell_type": "code",
   "execution_count": 49,
   "metadata": {},
   "outputs": [
    {
     "data": {
      "text/plain": [
       "Text(0.5, 1.0, 'Heatmap - correlation between analysed columns')"
      ]
     },
     "execution_count": 49,
     "metadata": {},
     "output_type": "execute_result"
    },
    {
     "data": {
      "image/png": "[encoded data removed]",
      "text/plain": [
       "<Figure size 432x432 with 2 Axes>"
      ]
     },
     "metadata": {
      "needs_background": "light"
     },
     "output_type": "display_data"
    }
   ],
   "source": [
    "plt.figure(figsize=(6,6))\n",
    "sns.heatmap(scifi_movie_db[['year','rating','number of genres','tag']].corr(), annot=True, fmt='.0%')\n",
    "plt.title('Heatmap - correlation between analysed columns')\n"
   ]
  },
  {
   "cell_type": "code",
   "execution_count": 42,
   "metadata": {},
   "outputs": [
    {
     "name": "stderr",
     "output_type": "stream",
     "text": [
      "No handles with labels found to put in legend.\n"
     ]
    },
    {
     "data": {
      "text/plain": [
       "<matplotlib.legend.Legend at 0x209b28b3f10>"
      ]
     },
     "execution_count": 42,
     "metadata": {},
     "output_type": "execute_result"
    },
    {
     "data": {
      "image/png": "[encoded data removed]",
      "text/plain": [
       "<Figure size 1080x720 with 1 Axes>"
      ]
     },
     "metadata": {
      "needs_background": "light"
     },
     "output_type": "display_data"
    }
   ],
   "source": [
    "fig, ax = plt.subplots(figsize=(12,8))\n",
    "sns.scatterplot(data=scifi_movie_db,y='tag',x='rating')\n",
    "plt.title('Scatterplot of movie rating and tag',fontsize=18)\n",
    "plt.ylabel('# of tags',fontsize=18)\n",
    "plt.xlabel('rating',fontsize=18)\n",
    "plt.yticks(fontsize=14)\n",
    "plt.legend(fontsize=12)\n"
   ]
  },
  {
   "cell_type": "markdown",
   "metadata": {},
   "source": [
    "<p>O gráfico de dispersão mostra uma correlação entre avaliação e número de tags, portanto número de tags será utilizada para elencar os melhores filmes.</p>\n",
    "\n",
    "<i><p>The scatterplot shows a correlation between rating and number of tags, therefore it will be used to sort the rank of best movies.</p></i>"
   ]
  },
  {
   "cell_type": "code",
   "execution_count": 50,
   "metadata": {},
   "outputs": [
    {
     "data": {
      "text/html": [
       "<div>\n",
       "<style scoped>\n",
       "    .dataframe tbody tr th:only-of-type {\n",
       "        vertical-align: middle;\n",
       "    }\n",
       "\n",
       "    .dataframe tbody tr th {\n",
       "        vertical-align: top;\n",
       "    }\n",
       "\n",
       "    .dataframe thead th {\n",
       "        text-align: right;\n",
       "    }\n",
       "</style>\n",
       "<table border=\"1\" class=\"dataframe\">\n",
       "  <thead>\n",
       "    <tr style=\"text-align: right;\">\n",
       "      <th></th>\n",
       "      <th>movieId</th>\n",
       "      <th>title</th>\n",
       "      <th>genres</th>\n",
       "      <th>year</th>\n",
       "      <th>number of genres</th>\n",
       "      <th>rating</th>\n",
       "      <th>tag</th>\n",
       "    </tr>\n",
       "  </thead>\n",
       "  <tbody>\n",
       "    <tr>\n",
       "      <th>13</th>\n",
       "      <td>260</td>\n",
       "      <td>Star Wars: Episode IV - A New Hope (1977)</td>\n",
       "      <td>Action|Adventure|Sci-Fi</td>\n",
       "      <td>1977</td>\n",
       "      <td>3</td>\n",
       "      <td>4.120189</td>\n",
       "      <td>6180</td>\n",
       "    </tr>\n",
       "    <tr>\n",
       "      <th>959</th>\n",
       "      <td>79132</td>\n",
       "      <td>Inception (2010)</td>\n",
       "      <td>Action|Crime|Drama|Mystery|Sci-Fi|Thriller|IMAX</td>\n",
       "      <td>2010</td>\n",
       "      <td>7</td>\n",
       "      <td>4.155508</td>\n",
       "      <td>4767</td>\n",
       "    </tr>\n",
       "    <tr>\n",
       "      <th>1272</th>\n",
       "      <td>109487</td>\n",
       "      <td>Interstellar (2014)</td>\n",
       "      <td>Sci-Fi|IMAX</td>\n",
       "      <td>2014</td>\n",
       "      <td>2</td>\n",
       "      <td>4.097928</td>\n",
       "      <td>3616</td>\n",
       "    </tr>\n",
       "    <tr>\n",
       "      <th>170</th>\n",
       "      <td>2571</td>\n",
       "      <td>Matrix, The (1999)</td>\n",
       "      <td>Action|Sci-Fi|Thriller</td>\n",
       "      <td>1999</td>\n",
       "      <td>3</td>\n",
       "      <td>4.154099</td>\n",
       "      <td>3573</td>\n",
       "    </tr>\n",
       "    <tr>\n",
       "      <th>529</th>\n",
       "      <td>7361</td>\n",
       "      <td>Eternal Sunshine of the Spotless Mind (2004)</td>\n",
       "      <td>Drama|Romance|Sci-Fi</td>\n",
       "      <td>2004</td>\n",
       "      <td>3</td>\n",
       "      <td>4.066351</td>\n",
       "      <td>2533</td>\n",
       "    </tr>\n",
       "  </tbody>\n",
       "</table>\n",
       "</div>"
      ],
      "text/plain": [
       "      movieId                                         title  \\\n",
       "13        260     Star Wars: Episode IV - A New Hope (1977)   \n",
       "959     79132                              Inception (2010)   \n",
       "1272   109487                           Interstellar (2014)   \n",
       "170      2571                            Matrix, The (1999)   \n",
       "529      7361  Eternal Sunshine of the Spotless Mind (2004)   \n",
       "\n",
       "                                               genres  year  number of genres  \\\n",
       "13                            Action|Adventure|Sci-Fi  1977                 3   \n",
       "959   Action|Crime|Drama|Mystery|Sci-Fi|Thriller|IMAX  2010                 7   \n",
       "1272                                      Sci-Fi|IMAX  2014                 2   \n",
       "170                            Action|Sci-Fi|Thriller  1999                 3   \n",
       "529                              Drama|Romance|Sci-Fi  2004                 3   \n",
       "\n",
       "        rating   tag  \n",
       "13    4.120189  6180  \n",
       "959   4.155508  4767  \n",
       "1272  4.097928  3616  \n",
       "170   4.154099  3573  \n",
       "529   4.066351  2533  "
      ]
     },
     "execution_count": 50,
     "metadata": {},
     "output_type": "execute_result"
    }
   ],
   "source": [
    "top_10_scifi=scifi_movie_db.sort_values(by=['tag'],ascending=False)[:10]\n",
    "top_10_scifi.head()"
   ]
  },
  {
   "cell_type": "code",
   "execution_count": 45,
   "metadata": {},
   "outputs": [
    {
     "data": {
      "text/plain": [
       "Text(0.5, 0, 'movie name')"
      ]
     },
     "execution_count": 45,
     "metadata": {},
     "output_type": "execute_result"
    },
    {
     "data": {
      "image/png": "[encoded data removed]",
      "text/plain": [
       "<Figure size 2200x1000 with 2 Axes>"
      ]
     },
     "metadata": {},
     "output_type": "display_data"
    }
   ],
   "source": [
    "average_year_rate= top_10_scifi[['title','rating']].groupby('title',as_index=False).mean()\n",
    "fig, ax1 = plt.subplots(figsize=(22,10))\n",
    "plt.style.use('default')\n",
    "plt.axhline(y=global_average,color='#3f6685',label='global average')\n",
    "plt.ylabel('top-10 average rating',fontsize=16)\n",
    "plt.yticks(fontsize=12)\n",
    "ax2=ax1.twinx()\n",
    "sns.barplot(data=average_year_rate,x='title',y='rating',color='#909090',alpha=0.5,ax=ax2)\n",
    "ax1.tick_params(axis='x', rotation=90)\n",
    "plt.yticks(fontsize=12)\n",
    "plt.yticks(fontsize=14)\n",
    "plt.ylabel('average of all analyzed sci-fi movies',fontsize=16)\n",
    "plt.title(\"The 10 best sci-fi movies ordered by number of tags x average rating from dataset\",fontsize=18)\n",
    "plt.xlabel('movie name',fontsize=16)"
   ]
  },
  {
   "cell_type": "markdown",
   "metadata": {},
   "source": [
    "# 4. Conclusão\n",
    "\n",
    "<p>O objetivo desse estudo de caso era explorar diferentes tabelas de um dataset, analisando-as, limpando-as e combinando as informações relevantes, além de utilizar diferentes tipos de gráficos para responder a três perguntas</p>\n",
    "\n",
    "<p>O número de filmes de ficcção científica aumentou ao longo dos anos?</p>\n",
    "<p>A nota média dos filmes de ficção científica aumentou com o a melhoria de efeitos especiais computacionais?</p>\n",
    "<p>Quais são os 10 filmes com maior nota?</p>\n",
    "\n",
    "<p>A análise exploratória de dados (EDA) mostrou um aumento no número de filmes de ficção científica lançados ao ano. Além disso, os gráficos de dispersão e o mapa de calor reveram a importância de considerar o número de tags para elencar os filmes com melhor avaliação, ou seja, levar em consideração apenas a nota, levaria a uma intepretação incorreta dos dados, já que há filmes com nota máxima e mínima com apenas uma tag de avaliação, ou seja, baixa relevância estatística.<p> \n",
    "\n",
    "<p> Em relação às notas, a média de todo período analisado foi de 2.8, porém o gráfico de dispersão não mostrou um aumento na média notas no decorrer do tempo </p>\n",
    "\n",
    "<p>Dos dez primeiros colocados, apenas dois filmes (Ex Machina e Interestelar) são da última década. A presença de filmes como Star Wars (1977), lançado apenas quatro anos após Waterworld - o primeiro filme a usar CGI - ainda se destaca no ranking e sugere que existem outros fatores mais importantes do que efeitos especiais que influenciam a na valiação de um filme de ficção científica.</p> \n",
    "\n",
    "\n",
    "## *4. Conclusion*\n",
    "<i>\n",
    "<p>The goal of this case study was to explore different tables within a dataset, analyzing them, cleaning them, and combining relevant information, as well as using different types of graphs to answer three questions:</p>\n",
    "\n",
    "<p>Has the number of science fiction movies increased over the years?</p>\n",
    "<p>Has the average rating of science fiction movies increased with the improvement of computer-generated special effects?</p>\n",
    "<p>What are the top 10 highest-rated movies?</p>\n",
    "<p>The exploratory data analysis (EDA) showed an increase in the number of science fiction movies released each year. Additionally, scatter plots and heatmaps revealed the importance of considering the number of tags to list the movies with the best ratings. That is, considering only the rating would lead to an incorrect interpretation of the data, as there are movies with maximum and minimum ratings with only one rating tag, indicating low statistical relevance.</p>\n",
    "\n",
    "<p>Regarding the ratings, the average for the entire period analyzed was 2.8, but the scatter plot did not show an increase in the average ratings over time.</p>\n",
    "\n",
    "Of the top ten highest-rated movies, only two (Ex Machina and Interstellar) are from the last decade. The presence of movies like Star Wars (1977), released just four years after Waterworld - the first movie to use CGI - still stands out in the rankings and suggests that there are other factors more important than special effects that influence the rating of a science fiction movie.</p>\n",
    "\n",
    "</i>"
   ]
  }
 ],
 "metadata": {
  "kernelspec": {
   "display_name": "Python 3 (ipykernel)",
   "language": "python",
   "name": "python3"
  },
  "language_info": {
   "codemirror_mode": {
    "name": "ipython",
    "version": 3
   },
   "file_extension": ".py",
   "mimetype": "text/x-python",
   "name": "python",
   "nbconvert_exporter": "python",
   "pygments_lexer": "ipython3",
   "version": "3.9.19"
  }
 },
 "nbformat": 4,
 "nbformat_minor": 4
}
